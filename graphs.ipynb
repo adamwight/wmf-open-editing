{
 "cells": [
  {
   "cell_type": "code",
   "execution_count": null,
   "metadata": {
    "collapsed": false
   },
   "outputs": [],
   "source": [
    "% matplotlib inline\n",
    "import matplotlib.pyplot as plt\n",
    "import pandas"
   ]
  },
  {
   "cell_type": "code",
   "execution_count": null,
   "metadata": {
    "collapsed": false
   },
   "outputs": [],
   "source": [
    "public_edits = pandas.read_csv(\"public_edits.csv\", sep=\"\\t\")\n",
    "private_edits = pandas.read_csv(\"private_edits.csv\", sep=\"\\t\")\n",
    "\n",
    "all_edits = pandas.merge(public_edits, private_edits, on='month')\n",
    "# public_edits became edit_count_x, private became edit_count_y\n",
    "\n",
    "def ratio_func(row):\n",
    "    # FIXME: We need to skip empty cells.\n",
    "    return row.edit_count_x / row.edit_count_y\n",
    "\n",
    "all_edits = all_edits.assign(ratio=ratio_func)\n",
    "\n",
    "fig, ax = plt.subplots()\n",
    "dates = all_edits.get('month')\n",
    "edits = all_edits.get('ratio')\n",
    "# TODO: plot_date\n",
    "ax.plot(dates, edits)"
   ]
  },
  {
   "cell_type": "code",
   "execution_count": null,
   "metadata": {
    "collapsed": true
   },
   "outputs": [],
   "source": []
  }
 ],
 "metadata": {
  "kernelspec": {
   "display_name": "Python 3",
   "language": "python",
   "name": "python3"
  },
  "language_info": {
   "codemirror_mode": {
    "name": "ipython",
    "version": 3
   },
   "file_extension": ".py",
   "mimetype": "text/x-python",
   "name": "python",
   "nbconvert_exporter": "python",
   "pygments_lexer": "ipython3",
   "version": "3.5.2+"
  }
 },
 "nbformat": 4,
 "nbformat_minor": 2
}
